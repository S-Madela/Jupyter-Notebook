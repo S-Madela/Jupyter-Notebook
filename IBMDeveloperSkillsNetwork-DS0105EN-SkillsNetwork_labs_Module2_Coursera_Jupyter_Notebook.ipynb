{
  "metadata": {
    "kernelspec": {
      "name": "python",
      "display_name": "Pyolite",
      "language": "python"
    },
    "language_info": {
      "codemirror_mode": {
        "name": "python",
        "version": 3
      },
      "file_extension": ".py",
      "mimetype": "text/x-python",
      "name": "python",
      "nbconvert_exporter": "python",
      "pygments_lexer": "ipython3",
      "version": "3.8"
    }
  },
  "nbformat_minor": 4,
  "nbformat": 4,
  "cells": [
    {
      "cell_type": "markdown",
      "source": "<center>\n    <img src=\"https://cf-courses-data.s3.us.cloud-object-storage.appdomain.cloud/IBMDeveloperSkillsNetwork-DS0105EN-SkillsNetwork/labs/Module2/images/SN_web_lightmode.png\" width=\"300\" alt=\"cognitiveclass.ai logo\">\n</center>\n",
      "metadata": {}
    },
    {
      "cell_type": "markdown",
      "source": "#### Add your code below following the instructions given in the course\n",
      "metadata": {}
    },
    {
      "cell_type": "markdown",
      "source": "Jupyter Notebook Assessment",
      "metadata": {}
    },
    {
      "cell_type": "markdown",
      "source": "Introduction: \nJupyter Notebook for the Tools for Data Science Exam",
      "metadata": {}
    },
    {
      "cell_type": "markdown",
      "source": "List of Data Science Languages\n1. Python    \n2. Julia\n3. R         \n4. Java\n5. SQL       \n6. C++\n7. Scala     \n8. Javascript\n9. Ruby      \n10. PHP\n",
      "metadata": {}
    },
    {
      "cell_type": "raw",
      "source": "List of Data Science Libraries\n1. Panda\n2. NumPy\n3. SciKit-Learn\n4. Tensorflow\n5. Keras\n6. PyTorch",
      "metadata": {}
    },
    {
      "cell_type": "markdown",
      "source": "Data Science Tools\n|Categories for Data Science Tools| Tools|\n|--------------------------------|---------------|\nData Management                  | Oracle Database, Microsoft SQL Server, IBM DB2\nData Integration & Tranformation | Apache, NodeRED, Informatica, SAP, Oracle, SAS, Talend, IBM Inforsphere DataStage\nData Visualization               | Hue, Kubana, Apache Superset\nModel Deployment                 | Apache PredictionIO, Seldon, MLeap, Tensorflow\nModel Monitoring & Assessment    | ModelDB, Prometheus\nCode Asset Management            | IBM AI Explanatory 360 Toolkit, Git\nData Asset Management            | Apache Atlas",
      "metadata": {}
    },
    {
      "cell_type": "markdown",
      "source": "Examples of Arithmetic Expressions\n10y + 3\n7x - 2\n3x * 5\n12z / 4",
      "metadata": {}
    },
    {
      "cell_type": "markdown",
      "source": "Addition and Multiplication of Numbers",
      "metadata": {}
    },
    {
      "cell_type": "code",
      "source": "8+9",
      "metadata": {
        "trusted": true
      },
      "execution_count": 7,
      "outputs": [
        {
          "execution_count": 7,
          "output_type": "execute_result",
          "data": {
            "text/plain": "17"
          },
          "metadata": {}
        }
      ]
    },
    {
      "cell_type": "code",
      "source": "3*14",
      "metadata": {
        "trusted": true
      },
      "execution_count": 8,
      "outputs": [
        {
          "execution_count": 8,
          "output_type": "execute_result",
          "data": {
            "text/plain": "42"
          },
          "metadata": {}
        }
      ]
    },
    {
      "cell_type": "markdown",
      "source": "Convert Minutes to Hours",
      "metadata": {}
    },
    {
      "cell_type": "code",
      "source": "minutes = await input('Enter minutes: ')\nprint('hours: ' + minutes // 60)",
      "metadata": {
        "trusted": true
      },
      "execution_count": 26,
      "outputs": [
        {
          "output_type": "stream",
          "name": "stdin",
          "text": "Enter minutes:  60\n"
        }
      ]
    },
    {
      "cell_type": "markdown",
      "source": "List of Objectives\n- Learn Data Science languages\n- Learn Data Science Tools\n- Learn Data Science categories\n- Learn Open Source Data Science Tools",
      "metadata": {}
    },
    {
      "cell_type": "markdown",
      "source": "Author's Name: \nSiphiwe Madela",
      "metadata": {}
    },
    {
      "cell_type": "code",
      "source": "",
      "metadata": {},
      "execution_count": null,
      "outputs": []
    }
  ]
}